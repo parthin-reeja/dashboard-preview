{
 "cells": [
  {
   "cell_type": "code",
   "execution_count": null,
   "id": "7dfbfd9b-8ad2-429e-b436-ef692905a99b",
   "metadata": {},
   "outputs": [],
   "source": [
    "import gradio as gr\n",
    "from tensorflow.keras.models import load_model\n",
    "import pandas as pd\n",
    "\n",
    "# Import your function (ensure this is valid and working)\n",
    "from load_model import run_load_model\n",
    "\n",
    "# Preload model only once\n",
    "model = load_model(\"h6_model.keras\")\n",
    "\n",
    "def forecast_and_plot(csv_file):\n",
    "    try:\n",
    "        # Gradio File object: use .name\n",
    "        if hasattr(csv_file, 'name'):\n",
    "            csv_path = csv_file.name\n",
    "        else:\n",
    "            csv_path = csv_file  # fallback\n",
    "\n",
    "        df_plot = run_load_model(csv_path, model)\n",
    "        preview = df_plot.head(5).to_markdown(index=False)\n",
    "        return f\"✅ Forecasting completed for: {csv_path}\", preview\n",
    "\n",
    "    except Exception as e:\n",
    "        return f\"❌ Error: {str(e)}\", \"\"\n",
    "\n",
    "# Gradio app\n",
    "interface = gr.Interface(\n",
    "    fn=forecast_and_plot,\n",
    "    inputs=gr.File(label=\"Upload CSV with Weather + PV\"),\n",
    "    outputs=[\n",
    "        gr.Textbox(label=\"Status\"),\n",
    "        gr.Textbox(label=\"Forecast Preview (First 5 Rows)\")\n",
    "    ],\n",
    "    title=\"PV Forecasting Tool\",\n",
    "    description=\"Upload a CSV file with weather and PV data to generate predictions using a pre-trained Keras model.\"\n",
    ")\n",
    "\n",
    "# Launch on port 7866\n",
    "interface.launch(server_port=7866)\n"
   ]
  }
 ],
 "metadata": {
  "kernelspec": {
   "display_name": "Python 3 (ipykernel)",
   "language": "python",
   "name": "python3"
  },
  "language_info": {
   "codemirror_mode": {
    "name": "ipython",
    "version": 3
   },
   "file_extension": ".py",
   "mimetype": "text/x-python",
   "name": "python",
   "nbconvert_exporter": "python",
   "pygments_lexer": "ipython3",
   "version": "3.11.0rc1"
  }
 },
 "nbformat": 4,
 "nbformat_minor": 5
}
